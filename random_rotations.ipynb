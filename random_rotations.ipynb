{
  "nbformat": 4,
  "nbformat_minor": 0,
  "metadata": {
    "colab": {
      "name": "random_rotations.ipynb",
      "provenance": [],
      "collapsed_sections": [],
      "include_colab_link": true
    },
    "kernelspec": {
      "name": "python3",
      "display_name": "Python 3"
    }
  },
  "cells": [
    {
      "cell_type": "markdown",
      "metadata": {
        "id": "view-in-github",
        "colab_type": "text"
      },
      "source": [
        "<a href=\"https://colab.research.google.com/github/jiangwei221/useful_scripts/blob/master/random_rotations.ipynb\" target=\"_parent\"><img src=\"https://colab.research.google.com/assets/colab-badge.svg\" alt=\"Open In Colab\"/></a>"
      ]
    },
    {
      "cell_type": "markdown",
      "metadata": {
        "id": "zd5rzWBFKS_C"
      },
      "source": [
        "# (Uniform) Random Rotations\n",
        "\n",
        "## Daniel Rebain\n",
        "\n"
      ]
    },
    {
      "cell_type": "code",
      "metadata": {
        "id": "lBxGxfaybaDE"
      },
      "source": [
        "import numpy as np\n",
        "from scipy.spatial.transform import Rotation\n",
        "from scipy.special import erfc, erfcinv\n",
        "import matplotlib.pyplot as plt"
      ],
      "execution_count": 1,
      "outputs": []
    },
    {
      "cell_type": "markdown",
      "metadata": {
        "id": "LVCFGbIZwyg0"
      },
      "source": [
        "The simple method computes a sample from a uniform distribution on the surface of a 4D sphere by normalizing a sample from a 4D unit Gaussian distribution."
      ]
    },
    {
      "cell_type": "code",
      "metadata": {
        "id": "1DcT1hd7wyzY"
      },
      "source": [
        "def uniform_rot(N):\n",
        "  \"\"\"A simple approach using Gaussians\n",
        "  \n",
        "  See: Shoemake, K. (1992). UNIFORM RANDOM ROTATIONS. \n",
        "  Graphics Gems III (IBM Version), 124–132. \n",
        "  doi:10.1016/b978-0-08-050755-2.50036-1 \n",
        "  \"\"\"\n",
        "  q = np.random.randn(N, 4)\n",
        "  q /= np.linalg.norm(q, axis=-1, keepdims=True)\n",
        "  return q"
      ],
      "execution_count": 2,
      "outputs": []
    },
    {
      "cell_type": "markdown",
      "metadata": {
        "id": "nRF9dtF_wcVh"
      },
      "source": [
        "The fast method works by composing a random rotation around the z-axis with a rotation that orients the z-axis in a random direction.\n",
        "\n",
        "This avoids having to accurately sample a Gaussian, which is somewhat expensive."
      ]
    },
    {
      "cell_type": "code",
      "metadata": {
        "id": "28As8h1BKPeh"
      },
      "source": [
        "def fast_uniform_rot(N):\n",
        "  \"\"\"The fast method as described in: \n",
        "\n",
        "  Arvo, J. (1992). FAST RANDOM ROTATION MATRICES. \n",
        "  Graphics Gems III (IBM Version), 117–120. \n",
        "  doi:10.1016/b978-0-08-050755-2.50034-8 \n",
        "  \"\"\"\n",
        "  theta = 2 * np.pi * np.random.rand(N)\n",
        "  phi = 2 * np.pi * np.random.rand(N)\n",
        "  z = np.random.rand(N)\n",
        "  v0 = np.cos(phi) * np.sqrt(z)\n",
        "  v1 = np.sin(phi) * np.sqrt(z)\n",
        "  v2 = np.sqrt(1 - z)\n",
        "  V = np.stack([v0, v1, v2], axis=1)\n",
        "  R = np.stack([np.cos(theta), np.sin(theta), np.zeros((N, )),\n",
        "                -np.sin(theta), np.cos(theta), np.zeros((N, )),\n",
        "                np.zeros((N, )), np.zeros((N, )), np.ones((N, ))], axis=1)\n",
        "  R = np.reshape(R, (-1, 3, 3))\n",
        "  M = (2 * V[:, None] * V[:, :, None] - np.eye(3)[None]) @ R\n",
        "  return Rotation.from_matrix(M).as_quat()"
      ],
      "execution_count": 3,
      "outputs": []
    },
    {
      "cell_type": "markdown",
      "metadata": {
        "id": "YdLuWQf-4Men"
      },
      "source": [
        "An incorrect method based on uniform random Euler angles."
      ]
    },
    {
      "cell_type": "code",
      "metadata": {
        "id": "ZY3ZiqYe4WSR"
      },
      "source": [
        "def euler_uniform_rot(N):\n",
        "  \"\"\"Incorrect! do not use.\"\"\"\n",
        "  angles = 2.0 * np.pi * np.random.rand(N, 3)\n",
        "  return Rotation.from_euler(\"XYZ\", angles).as_quat()"
      ],
      "execution_count": 4,
      "outputs": []
    },
    {
      "cell_type": "markdown",
      "metadata": {
        "id": "RFjVFhVA4254"
      },
      "source": [
        "We can empirically compare distributions to see which are actually correct."
      ]
    },
    {
      "cell_type": "code",
      "metadata": {
        "id": "N8TqNdkXxYw8"
      },
      "source": [
        "def quat_angle(q):\n",
        "  return 2.0 * np.arccos(np.abs(q[..., -1]))\n",
        "\n",
        "def compare_distributions(sampler0, sampler1):\n",
        "  \"\"\"This draws samples from two quaternion distributions and compares\n",
        "  the mean squared error between their histograms.\n",
        "  \"\"\"\n",
        "  hist0 = {}\n",
        "  hist1 = {}\n",
        "\n",
        "  N = 10**6\n",
        "  samples0 = Rotation.from_quat(sampler0(N)).as_rotvec() * 5 / np.pi\n",
        "  samples1 = Rotation.from_quat(sampler1(N)).as_rotvec() * 5 / np.pi\n",
        "\n",
        "  for s in samples0:\n",
        "    bin = tuple(s.astype(np.int32))\n",
        "    if bin in hist0:\n",
        "      hist0[bin] += 1\n",
        "    else:\n",
        "      hist0[bin] = 0\n",
        "\n",
        "  for s in samples1:\n",
        "    bin = tuple(s.astype(np.int32))\n",
        "    if bin in hist1:\n",
        "      hist1[bin] += 1\n",
        "    else:\n",
        "      hist1[bin] = 0\n",
        "\n",
        "  bins = set(hist0.keys()).union(hist1.keys())\n",
        "  errs = []\n",
        "  for bin in bins:\n",
        "    errs.append((hist1.get(bin, 0) - hist0.get(bin, 0))**2)\n",
        "\n",
        "  return np.sum(errs) / N**2"
      ],
      "execution_count": 5,
      "outputs": []
    },
    {
      "cell_type": "code",
      "metadata": {
        "id": "mbrTytqedIiG",
        "outputId": "fd30ddf3-e2a5-43c8-d2ef-dc3f6aa01078",
        "colab": {
          "base_uri": "https://localhost:8080/",
          "height": 119
        }
      },
      "source": [
        "print(\"fast_uniform_rot vs uniform_rot:        (Expected: match)    {:08.6f}\".format(compare_distributions(fast_uniform_rot, uniform_rot)))\n",
        "print(\"fast_uniform_rot vs euler_uniform_rot:  (Expected: no match) {:08.6f}\".format(compare_distributions(fast_uniform_rot, euler_uniform_rot)))\n",
        "print(\"uniform_rot vs euler_uniform_rot:       (Expected: no match) {:08.6f}\".format(compare_distributions(uniform_rot, euler_uniform_rot)))\n",
        "\n",
        "print(\"euler_uniform_rot vs euler_uniform_rot: (Expected: match)    {:08.6f}\".format(compare_distributions(euler_uniform_rot, euler_uniform_rot)))\n",
        "print(\"uniform_rot vs uniform_rot:             (Expected: match)    {:08.6f}\".format(compare_distributions(uniform_rot, uniform_rot)))\n",
        "print(\"fast_uniform_rot vs fast_uniform_rot:   (Expected: match)    {:08.6f}\".format(compare_distributions(fast_uniform_rot, fast_uniform_rot)))"
      ],
      "execution_count": 6,
      "outputs": [
        {
          "output_type": "stream",
          "text": [
            "fast_uniform_rot vs uniform_rot:        (Expected: match)    0.000002\n",
            "fast_uniform_rot vs euler_uniform_rot:  (Expected: no match) 0.001652\n",
            "uniform_rot vs euler_uniform_rot:       (Expected: no match) 0.001649\n",
            "euler_uniform_rot vs euler_uniform_rot: (Expected: match)    0.000002\n",
            "uniform_rot vs uniform_rot:             (Expected: match)    0.000002\n",
            "fast_uniform_rot vs fast_uniform_rot:   (Expected: match)    0.000002\n"
          ],
          "name": "stdout"
        }
      ]
    },
    {
      "cell_type": "code",
      "metadata": {
        "id": "I195rz8DIwDQ",
        "outputId": "12c0e6aa-a3d0-404c-f869-926d387cbde3",
        "colab": {
          "base_uri": "https://localhost:8080/",
          "height": 282
        }
      },
      "source": [
        "plt.hist(quat_angle(fast_uniform_rot(100000)), bins=100, alpha=0.4, label=\"Fast Correct\")\n",
        "plt.hist(quat_angle(uniform_rot(100000)), bins=100, alpha=0.4, label=\"Simple Correct\")\n",
        "plt.hist(quat_angle(euler_uniform_rot(100000)), bins=100, alpha=0.4, label=\"Euler\")\n",
        "plt.legend()"
      ],
      "execution_count": 7,
      "outputs": [
        {
          "output_type": "execute_result",
          "data": {
            "text/plain": [
              "<matplotlib.legend.Legend at 0x7f6f5239e240>"
            ]
          },
          "metadata": {
            "tags": []
          },
          "execution_count": 7
        },
        {
          "output_type": "display_data",
          "data": {
            "image/png": "[encoded data removed]",
            "text/plain": [
              "<Figure size 432x288 with 1 Axes>"
            ]
          },
          "metadata": {
            "tags": [],
            "needs_background": "light"
          }
        }
      ]
    },
    {
      "cell_type": "markdown",
      "metadata": {
        "id": "u8wBntb4WHnM"
      },
      "source": [
        "## Limiting Angle\n",
        "\n",
        "The simplest approach is to simply discard samples above the angle limit, though this is very inefficient for small angles."
      ]
    },
    {
      "cell_type": "code",
      "metadata": {
        "id": "IBojn-40dJne"
      },
      "source": [
        "def rejection_sample(sampler, N, limit):\n",
        "  \"\"\"Use a standard uniform sampler and reject angles > limit\"\"\"\n",
        "  limited_samples = np.zeros((0, 4))\n",
        "  batch = N\n",
        "  while limited_samples.shape[0] < N:\n",
        "    new_samples = sampler(batch)\n",
        "    angles = quat_angle(new_samples)\n",
        "    valid = new_samples[angles <= limit]\n",
        "    limited_samples = np.concatenate([limited_samples, valid], axis=0)\n",
        "    remaining = N - limited_samples.shape[0]\n",
        "    batch = int(2 * remaining * batch / (valid.shape[0] + 1))\n",
        "\n",
        "  return limited_samples[:N]"
      ],
      "execution_count": 8,
      "outputs": []
    },
    {
      "cell_type": "markdown",
      "metadata": {
        "id": "-RiryNIodZrN"
      },
      "source": [
        "We can also adapt the Quaternion method to enforce limits:"
      ]
    },
    {
      "cell_type": "code",
      "metadata": {
        "id": "IRHQOvHWXSta"
      },
      "source": [
        "def randn_tail(shape, limits):\n",
        "  comp_widths = erfc(limits / np.pi)\n",
        "  widths = 1.0 - comp_widths\n",
        "  inv_x = comp_widths * np.random.rand(*shape)\n",
        "  inv_x = np.clip(inv_x, np.finfo(float).tiny, 2.0)\n",
        "  x = erfcinv(inv_x) * np.pi\n",
        "  return x\n",
        "\n",
        "def limited_rot(N, limit):\n",
        "  \"\"\"Modification of the Gaussian method to limit the angle directly.\n",
        "\n",
        "  by Daniel Rebain\n",
        "  \"\"\"\n",
        "  vp = np.random.randn(N, 3)\n",
        "  d2 = np.sum(vp**2, axis=-1)\n",
        "  c2theta = np.cos(0.5 * limit)**2\n",
        "  wp_limit = np.sqrt(c2theta * d2 / (1.0 - c2theta))\n",
        "  wp = randn_tail((N, ), wp_limit)\n",
        "  wp *= 2.0 * np.random.randint(2, size=(N, )) - 1.0\n",
        "  q = np.concatenate([vp, wp[:, None]], axis=-1)\n",
        "  q /= np.linalg.norm(q, axis=-1, keepdims=True)\n",
        "  return q"
      ],
      "execution_count": 9,
      "outputs": []
    },
    {
      "cell_type": "markdown",
      "metadata": {
        "id": "ZPSNS8VPc-ob"
      },
      "source": [
        "Another incorrect approach with Euler angles:"
      ]
    },
    {
      "cell_type": "code",
      "metadata": {
        "id": "-CW4AzJNbCKX"
      },
      "source": [
        "def euler_limited_rot(N, limit):\n",
        "  \"\"\"Incorrect! do not use.\"\"\"\n",
        "  angles = 2.0 * limit * (np.random.rand(N, 3) - 0.5)\n",
        "  return Rotation.from_euler(\"XYZ\", angles).as_quat()"
      ],
      "execution_count": 10,
      "outputs": []
    },
    {
      "cell_type": "code",
      "metadata": {
        "id": "pNgrUojMYkDv",
        "outputId": "86662e35-c9fb-48ce-ee02-eb7e851da1f0",
        "colab": {
          "base_uri": "https://localhost:8080/",
          "height": 119
        }
      },
      "source": [
        "lim = np.pi / 3.0\n",
        "reject_sampler = lambda N: rejection_sample(uniform_rot, N, lim)\n",
        "gaussian_sampler = lambda N: limited_rot(N, lim)\n",
        "euler_sampler = lambda N: euler_limited_rot(N, lim)\n",
        "\n",
        "print(\"reject_sampler vs gaussian_sampler:      (Expected: match)    {:08.6f}\".format(compare_distributions(reject_sampler, gaussian_sampler)))\n",
        "print(\"reject_sampler vs euler_sampler:         (Expected: no match) {:08.6f}\".format(compare_distributions(reject_sampler, euler_sampler)))\n",
        "print(\"gaussian_sampler vs euler_sampler:       (Expected: no match) {:08.6f}\".format(compare_distributions(gaussian_sampler, euler_sampler)))\n",
        "\n",
        "print(\"reject_sampler vs reject_sampler:        (Expected: match)    {:08.6f}\".format(compare_distributions(reject_sampler, reject_sampler)))\n",
        "print(\"euler_sampler vs euler_sampler:          (Expected: match)    {:08.6f}\".format(compare_distributions(euler_sampler, euler_sampler)))\n",
        "print(\"gaussian_sampler vs gaussian_sampler:    (Expected: match)    {:08.6f}\".format(compare_distributions(gaussian_sampler, gaussian_sampler)))"
      ],
      "execution_count": 11,
      "outputs": [
        {
          "output_type": "stream",
          "text": [
            "reject_sampler vs gaussian_sampler:      (Expected: match)    0.000111\n",
            "reject_sampler vs euler_sampler:         (Expected: no match) 0.047152\n",
            "gaussian_sampler vs euler_sampler:       (Expected: no match) 0.044011\n",
            "reject_sampler vs reject_sampler:        (Expected: match)    0.000002\n",
            "euler_sampler vs euler_sampler:          (Expected: match)    0.000001\n",
            "gaussian_sampler vs gaussian_sampler:    (Expected: match)    0.000001\n"
          ],
          "name": "stdout"
        }
      ]
    },
    {
      "cell_type": "code",
      "metadata": {
        "id": "hbzYpQ-VZPL8",
        "outputId": "af935c84-4be8-4744-92bb-c95ff7e317bd",
        "colab": {
          "base_uri": "https://localhost:8080/",
          "height": 285
        }
      },
      "source": [
        "plt.hist(quat_angle(reject_sampler(100000)), bins=100, alpha=0.4, label=\"Rejection Sampling\")\n",
        "plt.hist(quat_angle(gaussian_sampler(100000)), bins=100, alpha=0.4, label=\"Quaternion Limit\")\n",
        "plt.hist(quat_angle(euler_sampler(100000)), bins=100, alpha=0.4, label=\"Euler Limit\")\n",
        "plt.legend()"
      ],
      "execution_count": 12,
      "outputs": [
        {
          "output_type": "execute_result",
          "data": {
            "text/plain": [
              "<matplotlib.legend.Legend at 0x7f6f4cc20c18>"
            ]
          },
          "metadata": {
            "tags": []
          },
          "execution_count": 12
        },
        {
          "output_type": "display_data",
          "data": {
            "image/png": "[encoded data removed]",
            "text/plain": [
              "<Figure size 432x288 with 1 Axes>"
            ]
          },
          "metadata": {
            "tags": [],
            "needs_background": "light"
          }
        }
      ]
    },
    {
      "cell_type": "code",
      "metadata": {
        "id": "MD1wpzb3sFY_"
      },
      "source": [
        ""
      ],
      "execution_count": null,
      "outputs": []
    }
  ]
}